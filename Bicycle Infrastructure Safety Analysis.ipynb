{
 "cells": [
  {
   "cell_type": "code",
   "execution_count": 12,
   "metadata": {},
   "outputs": [
    {
     "name": "stdout",
     "output_type": "stream",
     "text": [
      "897     Major Arterial\n",
      "896     Major Arterial\n",
      "895     Major Arterial\n",
      "898     Major Arterial\n",
      "781     Minor Arterial\n",
      "782     Minor Arterial\n",
      "832     Major Arterial\n",
      "831     Major Arterial\n",
      "1091    Major Arterial\n",
      "1089    Major Arterial\n",
      "1090    Major Arterial\n",
      "755         Expressway\n",
      "757         Expressway\n",
      "756         Expressway\n",
      "257          Collector\n",
      "256          Collector\n",
      "255          Collector\n",
      "606     Minor Arterial\n",
      "607     Minor Arterial\n",
      "608     Minor Arterial\n",
      "1016    Major Arterial\n",
      "1018    Major Arterial\n",
      "1017    Major Arterial\n",
      "19      Major Arterial\n",
      "18      Major Arterial\n",
      "20      Major Arterial\n",
      "17      Major Arterial\n",
      "506     Minor Arterial\n",
      "505     Minor Arterial\n",
      "504     Minor Arterial\n",
      "             ...      \n",
      "73      Major Arterial\n",
      "797          Collector\n",
      "798          Collector\n",
      "910     Major Arterial\n",
      "911     Major Arterial\n",
      "1101    Major Arterial\n",
      "1100    Major Arterial\n",
      "642     Major Arterial\n",
      "641     Major Arterial\n",
      "643     Major Arterial\n",
      "869     Major Arterial\n",
      "868     Major Arterial\n",
      "870     Major Arterial\n",
      "688         Expressway\n",
      "887          Collector\n",
      "886          Collector\n",
      "264     Major Arterial\n",
      "263     Major Arterial\n",
      "265     Major Arterial\n",
      "610     Major Arterial\n",
      "609     Major Arterial\n",
      "347     Major Arterial\n",
      "346     Major Arterial\n",
      "777     Minor Arterial\n",
      "778     Minor Arterial\n",
      "833     Major Arterial\n",
      "834     Major Arterial\n",
      "1263    Major Arterial\n",
      "1264    Major Arterial\n",
      "1262    Major Arterial\n",
      "Name: ROAD_CLASS, Length: 85, dtype: object\n"
     ]
    }
   ],
   "source": [
    "import pandas as pd\n",
    "import numpy as np\n",
    "import time\n",
    "import matplotlib\n",
    "\n",
    "start_time = time.time()\n",
    "df = pd.read_csv('cyclists.csv',\n",
    "                 low_memory=False,\n",
    "                 parse_dates=['DATE'])\n",
    "df.to_pickle('df_toronto')\n",
    "df = df.sort_values(by='DATE')\n",
    "df2 = df.groupby('ACCLASS').get_group('Fatal')\n",
    "print(df2['ROAD_CLASS'])"
   ]
  },
  {
   "cell_type": "code",
   "execution_count": null,
   "metadata": {},
   "outputs": [],
   "source": []
  }
 ],
 "metadata": {
  "kernelspec": {
   "display_name": "Python 3",
   "language": "python",
   "name": "python3"
  },
  "language_info": {
   "codemirror_mode": {
    "name": "ipython",
    "version": 3
   },
   "file_extension": ".py",
   "mimetype": "text/x-python",
   "name": "python",
   "nbconvert_exporter": "python",
   "pygments_lexer": "ipython3",
   "version": "3.7.3"
  }
 },
 "nbformat": 4,
 "nbformat_minor": 2
}
